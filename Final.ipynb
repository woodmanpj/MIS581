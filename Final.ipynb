{
 "cells": [
  {
   "cell_type": "markdown",
   "metadata": {},
   "source": [
    "# MIS581 Capstone Project Data Analysis Code"
   ]
  },
  {
   "cell_type": "markdown",
   "metadata": {},
   "source": [
    "### Import Libraries"
   ]
  },
  {
   "cell_type": "code",
   "execution_count": null,
   "metadata": {},
   "outputs": [],
   "source": [
    "import pandas as pd\n",
    "import numpy as np\n",
    "import matplotlib.pyplot as plt\n",
    "import seaborn as sns\n",
    "%matplotlib inline\n",
    "from sklearn.preprocessing import LabelEncoder\n",
    "from sklearn.linear_model import LinearRegression\n",
    "from sklearn.model_selection import train_test_split\n",
    "from sklearn import metrics"
   ]
  },
  {
   "cell_type": "markdown",
   "metadata": {},
   "source": [
    "### Read File into Pandas DataFrame and View First 5 Records"
   ]
  },
  {
   "cell_type": "code",
   "execution_count": null,
   "metadata": {},
   "outputs": [],
   "source": [
    "df = pd.read_csv('C:/Users/pjwoo/Desktop/healthcare/mimic3d.csv')\n",
    "df.head()"
   ]
  },
  {
   "cell_type": "markdown",
   "metadata": {},
   "source": [
    "### Find and Handle Missing Values"
   ]
  },
  {
   "cell_type": "code",
   "execution_count": null,
   "metadata": {},
   "outputs": [],
   "source": [
    "df.isnull().sum()"
   ]
  },
  {
   "cell_type": "code",
   "execution_count": null,
   "metadata": {},
   "outputs": [],
   "source": [
    "df['religion'].fillna(value='NOT SPECIFIED', inplace=True)\n",
    "df.dropna(subset=['AdmitDiagnosis'], how='any', inplace=True)\n",
    "df['marital_status'].fillna(value='UNKNOWN (DEFAULT)', inplace=True)"
   ]
  },
  {
   "cell_type": "markdown",
   "metadata": {},
   "source": [
    "### Narrow data to a subset of diagnoses"
   ]
  },
  {
   "cell_type": "code",
   "execution_count": null,
   "metadata": {},
   "outputs": [],
   "source": [
    "df.AdmitDiagnosis.nunique()"
   ]
  },
  {
   "cell_type": "code",
   "execution_count": null,
   "metadata": {},
   "outputs": [],
   "source": [
    "print('Percentage of Unique Diagnoses:',df.AdmitDiagnosis.nunique(),'/',df.AdmitDiagnosis.count(),'=',(df.AdmitDiagnosis.nunique()/df.AdmitDiagnosis.count()))"
   ]
  },
  {
   "cell_type": "code",
   "execution_count": null,
   "metadata": {},
   "outputs": [],
   "source": [
    "df.AdmitDiagnosis.value_counts().head(10)"
   ]
  },
  {
   "cell_type": "code",
   "execution_count": null,
   "metadata": {},
   "outputs": [],
   "source": [
    "coronary = df[df['AdmitDiagnosis'].str.contains(pat='CORONARY ARTERY DISEASE')]"
   ]
  },
  {
   "cell_type": "code",
   "execution_count": null,
   "metadata": {},
   "outputs": [],
   "source": [
    "coronary.AdmitDiagnosis.nunique()"
   ]
  },
  {
   "cell_type": "code",
   "execution_count": null,
   "metadata": {},
   "outputs": [],
   "source": [
    "coronary.AdmitDiagnosis.value_counts().head(60)"
   ]
  },
  {
   "cell_type": "code",
   "execution_count": null,
   "metadata": {},
   "outputs": [],
   "source": [
    "coronary.loc[coronary['AdmitDiagnosis'].str.contains(pat='CORONARY ARTERY BYPASS'), 'AdmitDiagnosis'] = 'CORONARY ARTERY DISEASE\\CORONARY ARTERY BYPASS'\n",
    "coronary.loc[coronary['AdmitDiagnosis'].str.contains(pat='CATH'), 'AdmitDiagnosis'] = 'CORONARY ARTERY DISEASE\\CATH'\n",
    "coronary.loc[coronary['AdmitDiagnosis'].str.contains(pat='AORTIC STENOSIS'), 'AdmitDiagnosis'] = 'CORONARY ARTERY DISEASE\\AORTIC STENOSIS'\n",
    "coronary.loc[coronary['AdmitDiagnosis'].str.contains(pat='ANGIOPLASTY'), 'AdmitDiagnosis'] = 'CORONARY ARTERY DISEASE\\ANGIOPLASTY'\n",
    "coronary.loc[coronary['AdmitDiagnosis'].str.contains(pat='VALVE REPLACEMENT'), 'AdmitDiagnosis'] = 'CORONARY ARTERY DISEASE\\VALVE REPLACEMENT'\n",
    "coronary.loc[coronary['AdmitDiagnosis'].str.contains(pat='CONGESTIVE HEART FAILURE'), 'AdmitDiagnosis'] = 'CORONARY ARTERY DISEASE\\CONGESTIVE HEART FAILURE'\n",
    "coronary.loc[coronary['AdmitDiagnosis'].str.contains(pat='STENT'), 'AdmitDiagnosis'] = 'CORONARY ARTERY DISEASE\\STENT'\n",
    "coronary.loc[coronary['AdmitDiagnosis'].str.contains(pat='CHF'), 'AdmitDiagnosis'] = 'CORONARY ARTERY DISEASE\\CONGESTIVE HEART FAILURE'\n",
    "coronary.loc[coronary['AdmitDiagnosis'].str.contains(pat='ANGINA'), 'AdmitDiagnosis'] = 'CORONARY ARTERY DISEASE\\ANGINA'\n",
    "coronary.loc[coronary['AdmitDiagnosis'].str.contains(pat='CHEST PAIN'), 'AdmitDiagnosis'] = 'CORONARY ARTERY DISEASE\\CHEST PAIN'\n",
    "coronary.loc[coronary['AdmitDiagnosis'].str.contains(pat='SDA'), 'AdmitDiagnosis'] = 'CORONARY ARTERY DISEASE'\n",
    "coronary.loc[coronary['AdmitDiagnosis'].str.contains(pat='VESSEL'), 'AdmitDiagnosis'] = 'CORONARY ARTERY DISEASE'\n",
    "coronary.loc[coronary['AdmitDiagnosis'].str.contains(pat=';'), 'AdmitDiagnosis'] = 'CORONARY ARTERY DISEASE'\n",
    "coronary.loc[coronary['AdmitDiagnosis'].str.contains(pat='INTERVENTION'), 'AdmitDiagnosis'] = 'CORONARY ARTERY DISEASE\\INTERVENTION'\n",
    "coronary.loc[coronary['AdmitDiagnosis'].str.contains(pat='COROANRY'), 'AdmitDiagnosis'] = 'CORONARY ARTERY DISEASE\\CORONARY ARTERY BYPASS'\n",
    "coronary.loc[coronary['AdmitDiagnosis'].str.contains(pat='LEFT MAIN'), 'AdmitDiagnosis'] = 'CORONARY ARTERY DISEASE'\n",
    "coronary.loc[coronary['AdmitDiagnosis'].str.contains(pat='AS CORONARY'), 'AdmitDiagnosis'] = 'CORONARY ARTERY DISEASE'\n",
    "\n",
    "coronary.AdmitDiagnosis.nunique()"
   ]
  },
  {
   "cell_type": "code",
   "execution_count": null,
   "metadata": {},
   "outputs": [],
   "source": [
    "coronary.shape"
   ]
  },
  {
   "cell_type": "code",
   "execution_count": null,
   "metadata": {},
   "outputs": [],
   "source": [
    "print('Percentage of Unique Diagnoses:',coronary.AdmitDiagnosis.nunique(),'/',coronary.AdmitDiagnosis.count(),'=',(coronary.AdmitDiagnosis.nunique()/coronary.AdmitDiagnosis.count()))"
   ]
  },
  {
   "cell_type": "markdown",
   "metadata": {},
   "source": [
    "### Find and remove outliers from key variables"
   ]
  },
  {
   "cell_type": "code",
   "execution_count": null,
   "metadata": {},
   "outputs": [],
   "source": [
    "coronary.describe()"
   ]
  },
  {
   "cell_type": "code",
   "execution_count": null,
   "metadata": {},
   "outputs": [],
   "source": [
    "sns.boxplot(y=coronary['NumDiagnosis'], showfliers=False)"
   ]
  },
  {
   "cell_type": "code",
   "execution_count": null,
   "metadata": {},
   "outputs": [],
   "source": [
    "coronary = coronary[coronary['NumDiagnosis']<4]"
   ]
  },
  {
   "cell_type": "code",
   "execution_count": null,
   "metadata": {},
   "outputs": [],
   "source": [
    "sns.boxplot(y=coronary['LOSdays'], showfliers=False)"
   ]
  },
  {
   "cell_type": "code",
   "execution_count": null,
   "metadata": {},
   "outputs": [],
   "source": [
    "coronary = coronary[coronary['LOSdays']<16]"
   ]
  },
  {
   "cell_type": "code",
   "execution_count": null,
   "metadata": {},
   "outputs": [],
   "source": [
    "coronary.describe()"
   ]
  },
  {
   "cell_type": "markdown",
   "metadata": {},
   "source": [
    "### Create new dataframe using a subset of variables"
   ]
  },
  {
   "cell_type": "code",
   "execution_count": null,
   "metadata": {},
   "outputs": [],
   "source": [
    "data = coronary[['gender','age','LOSdays','admit_type','admit_location','AdmitDiagnosis','insurance',\n",
    "                 'marital_status','ethnicity','NumDiagnosis','AdmitProcedure','NumProcs','NumCallouts',\n",
    "                 'NumCPTevents','NumProcEvents','NumTransfers','NumNotes']]\n",
    "data.head()"
   ]
  },
  {
   "cell_type": "code",
   "execution_count": null,
   "metadata": {},
   "outputs": [],
   "source": [
    "data.shape"
   ]
  },
  {
   "cell_type": "markdown",
   "metadata": {},
   "source": [
    "### Label encode categorical text variables"
   ]
  },
  {
   "cell_type": "code",
   "execution_count": null,
   "metadata": {},
   "outputs": [],
   "source": [
    "le = LabelEncoder()\n",
    "data['gender_le'] = le.fit_transform(data['gender'])\n",
    "data['admit_type_le'] = le.fit_transform(data['admit_type'])\n",
    "data['admit_location_le'] = le.fit_transform(data['admit_location'])\n",
    "data['insurance_le'] = le.fit_transform(data['insurance'])\n",
    "data['marital_status_le'] = le.fit_transform(data['marital_status'])\n",
    "data['ethnicity_le'] = le.fit_transform(data['ethnicity'])\n",
    "data['AdmitProcedure_le'] = le.fit_transform(data['AdmitProcedure'])\n",
    "data['AdmitDiagnosis_le'] = le.fit_transform(data['AdmitDiagnosis'])"
   ]
  },
  {
   "cell_type": "markdown",
   "metadata": {},
   "source": [
    "### Create heatmap showing correlation between numerical variables"
   ]
  },
  {
   "cell_type": "code",
   "execution_count": null,
   "metadata": {},
   "outputs": [],
   "source": [
    "plt.subplots(figsize=(20,15))\n",
    "sns.heatmap(data.corr(), annot=True)"
   ]
  },
  {
   "cell_type": "markdown",
   "metadata": {},
   "source": [
    "### Create new dataframe with only numerical variables"
   ]
  },
  {
   "cell_type": "code",
   "execution_count": null,
   "metadata": {},
   "outputs": [],
   "source": [
    "dfnum = data[['gender_le','age','LOSdays','admit_type_le','admit_location_le','AdmitDiagnosis_le','insurance_le',\n",
    "          'marital_status_le','ethnicity_le','NumDiagnosis','AdmitProcedure_le','NumProcs','NumCallouts',\n",
    "                 'NumCPTevents','NumProcEvents','NumTransfers','NumNotes']]\n",
    "dfnum.head()"
   ]
  },
  {
   "cell_type": "code",
   "execution_count": null,
   "metadata": {},
   "outputs": [],
   "source": [
    "dfnum.shape"
   ]
  },
  {
   "cell_type": "markdown",
   "metadata": {},
   "source": [
    "### Create X and y variables and split into train and test datasets"
   ]
  },
  {
   "cell_type": "code",
   "execution_count": null,
   "metadata": {},
   "outputs": [],
   "source": [
    "X = dfnum.drop('LOSdays', axis='columns')\n",
    "y = dfnum.LOSdays\n",
    "X_train, X_test, y_train, y_test = train_test_split(X, y)"
   ]
  },
  {
   "cell_type": "code",
   "execution_count": null,
   "metadata": {},
   "outputs": [],
   "source": [
    "X_train.shape"
   ]
  },
  {
   "cell_type": "markdown",
   "metadata": {},
   "source": [
    "### Train, test, and evaluate linear regression model"
   ]
  },
  {
   "cell_type": "code",
   "execution_count": null,
   "metadata": {},
   "outputs": [],
   "source": [
    "linreg = LinearRegression()\n",
    "linreg.fit(X_train, y_train)\n",
    "y_pred = linreg.predict(X_test)"
   ]
  },
  {
   "cell_type": "code",
   "execution_count": null,
   "metadata": {},
   "outputs": [],
   "source": [
    "print('Mean Absolute Error:', metrics.mean_absolute_error(y_test, y_pred))\n",
    "print('Mean Squared Error:', metrics.mean_squared_error(y_test, y_pred))\n",
    "print('Root Mean Squared Error:', np.sqrt(metrics.mean_squared_error(y_test, y_pred)))\n",
    "print('Coefficient of Determination:', linreg.score(X, y))\n",
    "print('Intercept:', linreg.intercept_)\n",
    "feature_cols = ['gender_le','age','LOSdays','admit_type_le','admit_location_le','AdmitDiagnosis_le','insurance_le',\n",
    "          'marital_status_le','ethnicity_le','NumDiagnosis','AdmitProcedure_le','NumProcs','NumCallouts',\n",
    "                 'NumCPTevents','NumProcEvents','NumTransfers','NumNotes']\n",
    "print('Coefficients:')\n",
    "list(zip(feature_cols, linreg.coef_))\n"
   ]
  },
  {
   "cell_type": "code",
   "execution_count": null,
   "metadata": {},
   "outputs": [],
   "source": [
    "results = pd.DataFrame({'Actual': y_test, 'Predicted': y_pred})\n",
    "results['Variance'] = abs(results['Predicted']-results['Actual'])\n",
    "results['ErrPerc'] = results['Variance']/results['Actual']*100\n",
    "results.head(20)"
   ]
  },
  {
   "cell_type": "code",
   "execution_count": null,
   "metadata": {},
   "outputs": [],
   "source": []
  }
 ],
 "metadata": {
  "kernelspec": {
   "display_name": "Python 3",
   "language": "python",
   "name": "python3"
  },
  "language_info": {
   "codemirror_mode": {
    "name": "ipython",
    "version": 3
   },
   "file_extension": ".py",
   "mimetype": "text/x-python",
   "name": "python",
   "nbconvert_exporter": "python",
   "pygments_lexer": "ipython3",
   "version": "3.7.6"
  }
 },
 "nbformat": 4,
 "nbformat_minor": 4
}
